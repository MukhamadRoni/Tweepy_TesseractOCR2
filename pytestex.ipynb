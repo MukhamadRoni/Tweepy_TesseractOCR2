{
 "cells": [
  {
   "cell_type": "code",
   "execution_count": 115,
   "metadata": {},
   "outputs": [],
   "source": [
    "from PIL import Image\n",
    "import pytesseract\n",
    "import pandas as pd"
   ]
  },
  {
   "cell_type": "code",
   "execution_count": 116,
   "metadata": {},
   "outputs": [],
   "source": [
    "pytesseract.pytesseract.tesseract_cmd = r'C:\\Users\\USER\\AppData\\Local\\Tesseract-OCR\\tesseract.exe'"
   ]
  },
  {
   "cell_type": "code",
   "execution_count": 117,
   "metadata": {},
   "outputs": [],
   "source": [
    "data = []"
   ]
  },
  {
   "cell_type": "code",
   "execution_count": 118,
   "metadata": {},
   "outputs": [],
   "source": [
    "i = 1"
   ]
  },
  {
   "cell_type": "code",
   "execution_count": 119,
   "metadata": {},
   "outputs": [],
   "source": [
    "for i in range(31):\n",
    "    a= pytesseract.image_to_string(f'desember/img ({i}).jpg')\n",
    "    data.append(a)"
   ]
  },
  {
   "cell_type": "code",
   "execution_count": 120,
   "metadata": {},
   "outputs": [],
   "source": [
    "df = pd.DataFrame(data)"
   ]
  },
  {
   "cell_type": "code",
   "execution_count": 121,
   "metadata": {},
   "outputs": [
    {
     "data": {
      "text/html": [
       "<div>\n",
       "<style scoped>\n",
       "    .dataframe tbody tr th:only-of-type {\n",
       "        vertical-align: middle;\n",
       "    }\n",
       "\n",
       "    .dataframe tbody tr th {\n",
       "        vertical-align: top;\n",
       "    }\n",
       "\n",
       "    .dataframe thead th {\n",
       "        text-align: right;\n",
       "    }\n",
       "</style>\n",
       "<table border=\"1\" class=\"dataframe\">\n",
       "  <thead>\n",
       "    <tr style=\"text-align: right;\">\n",
       "      <th></th>\n",
       "      <th>0</th>\n",
       "    </tr>\n",
       "  </thead>\n",
       "  <tbody>\n",
       "    <tr>\n",
       "      <th>0</th>\n",
       "      <td>nojlo 3: @hereissun - Dec 1, 2021 m\\nWA gue di...</td>\n",
       "    </tr>\n",
       "    <tr>\n",
       "      <th>1</th>\n",
       "      <td>nojlo 3: @hereissun - Dec 1, 2021 m\\nWA gue di...</td>\n",
       "    </tr>\n",
       "    <tr>\n",
       "      <th>2</th>\n",
       "      <td>a\\n@\\n\\nmayy!! mt after dm @ijelofs - Dec 2, 2...</td>\n",
       "    </tr>\n",
       "    <tr>\n",
       "      <th>3</th>\n",
       "      <td>gee @ kinda ia @leemerkhb- Dee 2, 2021\\njangan...</td>\n",
       "    </tr>\n",
       "    <tr>\n",
       "      <th>4</th>\n",
       "      <td>kemala @khocomala - Dec 3, 2021 we\\nGuru inggr...</td>\n",
       "    </tr>\n",
       "    <tr>\n",
       "      <th>5</th>\n",
       "      <td>(BPR) R Sdaidaisy_09 - Dec 3. 2021\\nPicasso en...</td>\n",
       "    </tr>\n",
       "    <tr>\n",
       "      <th>6</th>\n",
       "      <td>Clloud_#2 @2CHloud - Dec 6, 2021\\nKpd guru ing...</td>\n",
       "    </tr>\n",
       "    <tr>\n",
       "      <th>7</th>\n",
       "      <td>?\\n@\\n\\n@jayslovebot - Dec 6, 2021\\nGURU INGGR...</td>\n",
       "    </tr>\n",
       "    <tr>\n",
       "      <th>8</th>\n",
       "      <td>() fin - dy.\\n\\nS Miss Astri\\n\\nFindy=~ fn\\n\\n...</td>\n",
       "    </tr>\n",
       "    <tr>\n",
       "      <th>9</th>\n",
       "      <td>nana @moonchildhn - Dec 7, 2021 By\\n‘Sumpah gu...</td>\n",
       "    </tr>\n",
       "    <tr>\n",
       "      <th>10</th>\n",
       "      <td>YA ALLAH\\n KUATKAN HAMBA\\n\\n</td>\n",
       "    </tr>\n",
       "    <tr>\n",
       "      <th>11</th>\n",
       "      <td>ies evantseugh - Deo 8, 2021\\nguru inggris gus...</td>\n",
       "    </tr>\n",
       "    <tr>\n",
       "      <th>12</th>\n",
       "      <td>20 @\\n\\n¢\\n\\nrash @aulracth - Dec’, 2021 -\\n‘m...</td>\n",
       "    </tr>\n",
       "    <tr>\n",
       "      <th>13</th>\n",
       "      <td>Rams de @gnstpx Dec 10, 2024\\nSecin oul, guru ...</td>\n",
       "    </tr>\n",
       "    <tr>\n",
       "      <th>14</th>\n",
       "      <td>ron cantinkss... Selamat\\nfrmbut tahun bara\\n\\n</td>\n",
       "    </tr>\n",
       "    <tr>\n",
       "      <th>15</th>\n",
       "      <td>luda maba skuntansi vin matang @winterrsinboww...</td>\n",
       "    </tr>\n",
       "    <tr>\n",
       "      <th>16</th>\n",
       "      <td>ies, THA @44henderyy Dec 13, 2021\\npengen rea ...</td>\n",
       "    </tr>\n",
       "    <tr>\n",
       "      <th>17</th>\n",
       "      <td>Guru s bahasa inggris-bahasa indo-bahasa\\n\\n</td>\n",
       "    </tr>\n",
       "    <tr>\n",
       "      <th>18</th>\n",
       "      <td>a)\\n\\nGhaisani Fildjah F @GheissniFF- Dec 14,2...</td>\n",
       "    </tr>\n",
       "    <tr>\n",
       "      <th>19</th>\n",
       "      <td>Mars (free tag (9) @marsthetic_- Dec 15, 2021\\...</td>\n",
       "    </tr>\n",
       "    <tr>\n",
       "      <th>20</th>\n",
       "      <td>chika @cchoinee - Dec 17,2021\\ngue dan pren ai...</td>\n",
       "    </tr>\n",
       "    <tr>\n",
       "      <th>21</th>\n",
       "      <td>kurapika a\\n= ie wi\\n\\nWahhh, nonton HxH juga ...</td>\n",
       "    </tr>\n",
       "    <tr>\n",
       "      <th>22</th>\n",
       "      <td>fafa. - stopkol Gindomielashsusu - Dec 21, 202...</td>\n",
       "    </tr>\n",
       "    <tr>\n",
       "      <th>23</th>\n",
       "      <td></td>\n",
       "    </tr>\n",
       "    <tr>\n",
       "      <th>24</th>\n",
       "      <td>bbelbin_ @Akusukakmuuu - Dec 23,2021\\nguru Ing...</td>\n",
       "    </tr>\n",
       "    <tr>\n",
       "      <th>25</th>\n",
       "      <td>ras? @Chaaxreas - Dec 23, 2021\\nBu guru inggri...</td>\n",
       "    </tr>\n",
       "    <tr>\n",
       "      <th>26</th>\n",
       "      <td>uke nangis\\n\\netka dis niksh t sekolsh patsh n...</td>\n",
       "    </tr>\n",
       "    <tr>\n",
       "      <th>27</th>\n",
       "      <td>nnala 9@ @milfSmybeloved - Dec 24, 2021\\n/hhhh...</td>\n",
       "    </tr>\n",
       "    <tr>\n",
       "      <th>28</th>\n",
       "      <td>cehar\\nGue pernsh pas:\\n\\nPILEK PAS UJiAN\\n\\nB...</td>\n",
       "    </tr>\n",
       "    <tr>\n",
       "      <th>29</th>\n",
       "      <td>mine J @hyunjintgt - Dec 28, 2021\\nkangen guru...</td>\n",
       "    </tr>\n",
       "    <tr>\n",
       "      <th>30</th>\n",
       "      <td>‘= @liceppeu - Dec 30, 2021 et\\n‘Ya Allah disu...</td>\n",
       "    </tr>\n",
       "  </tbody>\n",
       "</table>\n",
       "</div>"
      ],
      "text/plain": [
       "                                                    0\n",
       "0   nojlo 3: @hereissun - Dec 1, 2021 m\\nWA gue di...\n",
       "1   nojlo 3: @hereissun - Dec 1, 2021 m\\nWA gue di...\n",
       "2   a\\n@\\n\\nmayy!! mt after dm @ijelofs - Dec 2, 2...\n",
       "3   gee @ kinda ia @leemerkhb- Dee 2, 2021\\njangan...\n",
       "4   kemala @khocomala - Dec 3, 2021 we\\nGuru inggr...\n",
       "5   (BPR) R Sdaidaisy_09 - Dec 3. 2021\\nPicasso en...\n",
       "6   Clloud_#2 @2CHloud - Dec 6, 2021\\nKpd guru ing...\n",
       "7   ?\\n@\\n\\n@jayslovebot - Dec 6, 2021\\nGURU INGGR...\n",
       "8   () fin - dy.\\n\\nS Miss Astri\\n\\nFindy=~ fn\\n\\n...\n",
       "9   nana @moonchildhn - Dec 7, 2021 By\\n‘Sumpah gu...\n",
       "10                       YA ALLAH\\n KUATKAN HAMBA\\n\\n\n",
       "11  ies evantseugh - Deo 8, 2021\\nguru inggris gus...\n",
       "12  20 @\\n\\n¢\\n\\nrash @aulracth - Dec’, 2021 -\\n‘m...\n",
       "13  Rams de @gnstpx Dec 10, 2024\\nSecin oul, guru ...\n",
       "14    ron cantinkss... Selamat\\nfrmbut tahun bara\\n\\n\n",
       "15  luda maba skuntansi vin matang @winterrsinboww...\n",
       "16  ies, THA @44henderyy Dec 13, 2021\\npengen rea ...\n",
       "17       Guru s bahasa inggris-bahasa indo-bahasa\\n\\n\n",
       "18  a)\\n\\nGhaisani Fildjah F @GheissniFF- Dec 14,2...\n",
       "19  Mars (free tag (9) @marsthetic_- Dec 15, 2021\\...\n",
       "20  chika @cchoinee - Dec 17,2021\\ngue dan pren ai...\n",
       "21  kurapika a\\n= ie wi\\n\\nWahhh, nonton HxH juga ...\n",
       "22  fafa. - stopkol Gindomielashsusu - Dec 21, 202...\n",
       "23                                                   \n",
       "24  bbelbin_ @Akusukakmuuu - Dec 23,2021\\nguru Ing...\n",
       "25  ras? @Chaaxreas - Dec 23, 2021\\nBu guru inggri...\n",
       "26  uke nangis\\n\\netka dis niksh t sekolsh patsh n...\n",
       "27  nnala 9@ @milfSmybeloved - Dec 24, 2021\\n/hhhh...\n",
       "28  cehar\\nGue pernsh pas:\\n\\nPILEK PAS UJiAN\\n\\nB...\n",
       "29  mine J @hyunjintgt - Dec 28, 2021\\nkangen guru...\n",
       "30  ‘= @liceppeu - Dec 30, 2021 et\\n‘Ya Allah disu..."
      ]
     },
     "execution_count": 121,
     "metadata": {},
     "output_type": "execute_result"
    }
   ],
   "source": [
    "df"
   ]
  },
  {
   "cell_type": "code",
   "execution_count": 122,
   "metadata": {},
   "outputs": [],
   "source": [
    "df.to_excel('desember.xlsx')"
   ]
  },
  {
   "cell_type": "code",
   "execution_count": null,
   "metadata": {},
   "outputs": [],
   "source": []
  }
 ],
 "metadata": {
  "kernelspec": {
   "display_name": "Python 3.9.12 ('base')",
   "language": "python",
   "name": "python3"
  },
  "language_info": {
   "codemirror_mode": {
    "name": "ipython",
    "version": 3
   },
   "file_extension": ".py",
   "mimetype": "text/x-python",
   "name": "python",
   "nbconvert_exporter": "python",
   "pygments_lexer": "ipython3",
   "version": "3.9.12"
  },
  "orig_nbformat": 4,
  "vscode": {
   "interpreter": {
    "hash": "263930470851f494f0ed2879c35b57985588df20f9e529b86e97dd5eb9ddc466"
   }
  }
 },
 "nbformat": 4,
 "nbformat_minor": 2
}
